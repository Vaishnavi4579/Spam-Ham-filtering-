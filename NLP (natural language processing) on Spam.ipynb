{
 "cells": [
  {
   "cell_type": "code",
   "execution_count": 1,
   "id": "6f307c41",
   "metadata": {},
   "outputs": [],
   "source": [
    "## PS :- To build a predictive model which car identifies if email is ham or spam"
   ]
  },
  {
   "cell_type": "code",
   "execution_count": 1,
   "id": "e8b15211",
   "metadata": {},
   "outputs": [],
   "source": [
    "import pandas as pd\n",
    "pd.set_option('display.max_columns',None)\n",
    "pd.set_option('display.max_rows',None)"
   ]
  },
  {
   "cell_type": "code",
   "execution_count": 2,
   "id": "66bea2ca",
   "metadata": {},
   "outputs": [],
   "source": [
    "pd.read_csv(r\"C:\\Users\\hp\\Downloads\\spam1.csv\")\n",
    "sp=pd.read_csv(r\"C:\\Users\\hp\\Downloads\\spam1.csv\")\n"
   ]
  },
  {
   "cell_type": "code",
   "execution_count": 3,
   "id": "5e300a20",
   "metadata": {},
   "outputs": [],
   "source": [
    "#sp.head()"
   ]
  },
  {
   "cell_type": "code",
   "execution_count": 4,
   "id": "d1a93372",
   "metadata": {},
   "outputs": [],
   "source": [
    "#sp.isnull().sum()"
   ]
  },
  {
   "cell_type": "code",
   "execution_count": 5,
   "id": "26803f57",
   "metadata": {},
   "outputs": [
    {
     "data": {
      "text/plain": [
       "(6776, 5)"
      ]
     },
     "execution_count": 5,
     "metadata": {},
     "output_type": "execute_result"
    }
   ],
   "source": [
    "sp.shape"
   ]
  },
  {
   "cell_type": "code",
   "execution_count": 6,
   "id": "8c537672",
   "metadata": {},
   "outputs": [
    {
     "data": {
      "text/html": [
       "<div>\n",
       "<style scoped>\n",
       "    .dataframe tbody tr th:only-of-type {\n",
       "        vertical-align: middle;\n",
       "    }\n",
       "\n",
       "    .dataframe tbody tr th {\n",
       "        vertical-align: top;\n",
       "    }\n",
       "\n",
       "    .dataframe thead th {\n",
       "        text-align: right;\n",
       "    }\n",
       "</style>\n",
       "<table border=\"1\" class=\"dataframe\">\n",
       "  <thead>\n",
       "    <tr style=\"text-align: right;\">\n",
       "      <th></th>\n",
       "      <th>v1</th>\n",
       "      <th>v2</th>\n",
       "    </tr>\n",
       "  </thead>\n",
       "  <tbody>\n",
       "    <tr>\n",
       "      <th>0</th>\n",
       "      <td>ham</td>\n",
       "      <td>Go until jurong point, crazy.. Available only ...</td>\n",
       "    </tr>\n",
       "    <tr>\n",
       "      <th>1</th>\n",
       "      <td>ham</td>\n",
       "      <td>Ok lar... Joking wif u oni...</td>\n",
       "    </tr>\n",
       "    <tr>\n",
       "      <th>2</th>\n",
       "      <td>spam</td>\n",
       "      <td>Free entry in 2 a wkly comp to win FA Cup fina...</td>\n",
       "    </tr>\n",
       "    <tr>\n",
       "      <th>3</th>\n",
       "      <td>ham</td>\n",
       "      <td>U dun say so early hor... U c already then say...</td>\n",
       "    </tr>\n",
       "    <tr>\n",
       "      <th>4</th>\n",
       "      <td>ham</td>\n",
       "      <td>Nah I don't think he goes to usf, he lives aro...</td>\n",
       "    </tr>\n",
       "  </tbody>\n",
       "</table>\n",
       "</div>"
      ],
      "text/plain": [
       "     v1                                                 v2\n",
       "0   ham  Go until jurong point, crazy.. Available only ...\n",
       "1   ham                      Ok lar... Joking wif u oni...\n",
       "2  spam  Free entry in 2 a wkly comp to win FA Cup fina...\n",
       "3   ham  U dun say so early hor... U c already then say...\n",
       "4   ham  Nah I don't think he goes to usf, he lives aro..."
      ]
     },
     "execution_count": 6,
     "metadata": {},
     "output_type": "execute_result"
    }
   ],
   "source": [
    "sp = sp.iloc[ : , [0,1]]\n",
    "sp.head()"
   ]
  },
  {
   "cell_type": "code",
   "execution_count": 7,
   "id": "cc1c1a86",
   "metadata": {},
   "outputs": [],
   "source": [
    "sp.rename(columns={'v1':'label' , 'v2':'message'} , inplace= True)"
   ]
  },
  {
   "cell_type": "code",
   "execution_count": 8,
   "id": "a3c86d03",
   "metadata": {},
   "outputs": [
    {
     "data": {
      "text/html": [
       "<div>\n",
       "<style scoped>\n",
       "    .dataframe tbody tr th:only-of-type {\n",
       "        vertical-align: middle;\n",
       "    }\n",
       "\n",
       "    .dataframe tbody tr th {\n",
       "        vertical-align: top;\n",
       "    }\n",
       "\n",
       "    .dataframe thead th {\n",
       "        text-align: right;\n",
       "    }\n",
       "</style>\n",
       "<table border=\"1\" class=\"dataframe\">\n",
       "  <thead>\n",
       "    <tr style=\"text-align: right;\">\n",
       "      <th></th>\n",
       "      <th>label</th>\n",
       "      <th>message</th>\n",
       "    </tr>\n",
       "  </thead>\n",
       "  <tbody>\n",
       "    <tr>\n",
       "      <th>0</th>\n",
       "      <td>ham</td>\n",
       "      <td>Go until jurong point, crazy.. Available only ...</td>\n",
       "    </tr>\n",
       "    <tr>\n",
       "      <th>1</th>\n",
       "      <td>ham</td>\n",
       "      <td>Ok lar... Joking wif u oni...</td>\n",
       "    </tr>\n",
       "    <tr>\n",
       "      <th>2</th>\n",
       "      <td>spam</td>\n",
       "      <td>Free entry in 2 a wkly comp to win FA Cup fina...</td>\n",
       "    </tr>\n",
       "    <tr>\n",
       "      <th>3</th>\n",
       "      <td>ham</td>\n",
       "      <td>U dun say so early hor... U c already then say...</td>\n",
       "    </tr>\n",
       "    <tr>\n",
       "      <th>4</th>\n",
       "      <td>ham</td>\n",
       "      <td>Nah I don't think he goes to usf, he lives aro...</td>\n",
       "    </tr>\n",
       "  </tbody>\n",
       "</table>\n",
       "</div>"
      ],
      "text/plain": [
       "  label                                            message\n",
       "0   ham  Go until jurong point, crazy.. Available only ...\n",
       "1   ham                      Ok lar... Joking wif u oni...\n",
       "2  spam  Free entry in 2 a wkly comp to win FA Cup fina...\n",
       "3   ham  U dun say so early hor... U c already then say...\n",
       "4   ham  Nah I don't think he goes to usf, he lives aro..."
      ]
     },
     "execution_count": 8,
     "metadata": {},
     "output_type": "execute_result"
    }
   ],
   "source": [
    "sp.head()"
   ]
  },
  {
   "cell_type": "code",
   "execution_count": 9,
   "id": "a3800aa7",
   "metadata": {},
   "outputs": [
    {
     "data": {
      "text/plain": [
       "ham     5854\n",
       "spam     922\n",
       "Name: label, dtype: int64"
      ]
     },
     "execution_count": 9,
     "metadata": {},
     "output_type": "execute_result"
    }
   ],
   "source": [
    "sp.label.value_counts()"
   ]
  },
  {
   "cell_type": "code",
   "execution_count": 10,
   "id": "e9aec63d",
   "metadata": {},
   "outputs": [],
   "source": [
    "sp.label.replace({'ham':0 ,'spam':1} , inplace= True)"
   ]
  },
  {
   "cell_type": "code",
   "execution_count": 11,
   "id": "91a8fc02",
   "metadata": {},
   "outputs": [
    {
     "data": {
      "text/plain": [
       "0    5854\n",
       "1     922\n",
       "Name: label, dtype: int64"
      ]
     },
     "execution_count": 11,
     "metadata": {},
     "output_type": "execute_result"
    }
   ],
   "source": [
    "sp.label.value_counts()"
   ]
  },
  {
   "cell_type": "code",
   "execution_count": 12,
   "id": "79765d5b",
   "metadata": {},
   "outputs": [
    {
     "data": {
      "text/html": [
       "<div>\n",
       "<style scoped>\n",
       "    .dataframe tbody tr th:only-of-type {\n",
       "        vertical-align: middle;\n",
       "    }\n",
       "\n",
       "    .dataframe tbody tr th {\n",
       "        vertical-align: top;\n",
       "    }\n",
       "\n",
       "    .dataframe thead th {\n",
       "        text-align: right;\n",
       "    }\n",
       "</style>\n",
       "<table border=\"1\" class=\"dataframe\">\n",
       "  <thead>\n",
       "    <tr style=\"text-align: right;\">\n",
       "      <th></th>\n",
       "      <th>label</th>\n",
       "      <th>message</th>\n",
       "    </tr>\n",
       "  </thead>\n",
       "  <tbody>\n",
       "    <tr>\n",
       "      <th>0</th>\n",
       "      <td>0</td>\n",
       "      <td>Go until jurong point, crazy.. Available only ...</td>\n",
       "    </tr>\n",
       "    <tr>\n",
       "      <th>1</th>\n",
       "      <td>0</td>\n",
       "      <td>Ok lar... Joking wif u oni...</td>\n",
       "    </tr>\n",
       "    <tr>\n",
       "      <th>2</th>\n",
       "      <td>1</td>\n",
       "      <td>Free entry in 2 a wkly comp to win FA Cup fina...</td>\n",
       "    </tr>\n",
       "    <tr>\n",
       "      <th>3</th>\n",
       "      <td>0</td>\n",
       "      <td>U dun say so early hor... U c already then say...</td>\n",
       "    </tr>\n",
       "    <tr>\n",
       "      <th>4</th>\n",
       "      <td>0</td>\n",
       "      <td>Nah I don't think he goes to usf, he lives aro...</td>\n",
       "    </tr>\n",
       "  </tbody>\n",
       "</table>\n",
       "</div>"
      ],
      "text/plain": [
       "   label                                            message\n",
       "0      0  Go until jurong point, crazy.. Available only ...\n",
       "1      0                      Ok lar... Joking wif u oni...\n",
       "2      1  Free entry in 2 a wkly comp to win FA Cup fina...\n",
       "3      0  U dun say so early hor... U c already then say...\n",
       "4      0  Nah I don't think he goes to usf, he lives aro..."
      ]
     },
     "execution_count": 12,
     "metadata": {},
     "output_type": "execute_result"
    }
   ],
   "source": [
    "sp.head()"
   ]
  },
  {
   "cell_type": "code",
   "execution_count": 13,
   "id": "b720a95b",
   "metadata": {},
   "outputs": [],
   "source": [
    "## Lets convert low data in lower case"
   ]
  },
  {
   "cell_type": "code",
   "execution_count": 14,
   "id": "2ed7ea67",
   "metadata": {},
   "outputs": [],
   "source": [
    "sp.message = sp.message.str.lower()"
   ]
  },
  {
   "cell_type": "code",
   "execution_count": 15,
   "id": "eef4cf1c",
   "metadata": {},
   "outputs": [
    {
     "data": {
      "text/html": [
       "<div>\n",
       "<style scoped>\n",
       "    .dataframe tbody tr th:only-of-type {\n",
       "        vertical-align: middle;\n",
       "    }\n",
       "\n",
       "    .dataframe tbody tr th {\n",
       "        vertical-align: top;\n",
       "    }\n",
       "\n",
       "    .dataframe thead th {\n",
       "        text-align: right;\n",
       "    }\n",
       "</style>\n",
       "<table border=\"1\" class=\"dataframe\">\n",
       "  <thead>\n",
       "    <tr style=\"text-align: right;\">\n",
       "      <th></th>\n",
       "      <th>label</th>\n",
       "      <th>message</th>\n",
       "    </tr>\n",
       "  </thead>\n",
       "  <tbody>\n",
       "    <tr>\n",
       "      <th>0</th>\n",
       "      <td>0</td>\n",
       "      <td>go until jurong point, crazy.. available only ...</td>\n",
       "    </tr>\n",
       "    <tr>\n",
       "      <th>1</th>\n",
       "      <td>0</td>\n",
       "      <td>ok lar... joking wif u oni...</td>\n",
       "    </tr>\n",
       "    <tr>\n",
       "      <th>2</th>\n",
       "      <td>1</td>\n",
       "      <td>free entry in 2 a wkly comp to win fa cup fina...</td>\n",
       "    </tr>\n",
       "    <tr>\n",
       "      <th>3</th>\n",
       "      <td>0</td>\n",
       "      <td>u dun say so early hor... u c already then say...</td>\n",
       "    </tr>\n",
       "    <tr>\n",
       "      <th>4</th>\n",
       "      <td>0</td>\n",
       "      <td>nah i don't think he goes to usf, he lives aro...</td>\n",
       "    </tr>\n",
       "  </tbody>\n",
       "</table>\n",
       "</div>"
      ],
      "text/plain": [
       "   label                                            message\n",
       "0      0  go until jurong point, crazy.. available only ...\n",
       "1      0                      ok lar... joking wif u oni...\n",
       "2      1  free entry in 2 a wkly comp to win fa cup fina...\n",
       "3      0  u dun say so early hor... u c already then say...\n",
       "4      0  nah i don't think he goes to usf, he lives aro..."
      ]
     },
     "execution_count": 15,
     "metadata": {},
     "output_type": "execute_result"
    }
   ],
   "source": [
    "sp.head()"
   ]
  },
  {
   "cell_type": "code",
   "execution_count": 16,
   "id": "e4e7e8dd",
   "metadata": {},
   "outputs": [],
   "source": [
    "## Remove Stop Word and Punctuations"
   ]
  },
  {
   "cell_type": "code",
   "execution_count": 17,
   "id": "1c82185f",
   "metadata": {},
   "outputs": [],
   "source": [
    "import nltk"
   ]
  },
  {
   "cell_type": "code",
   "execution_count": 24,
   "id": "345c8dbc",
   "metadata": {},
   "outputs": [
    {
     "name": "stderr",
     "output_type": "stream",
     "text": [
      "[nltk_data] Downloading package stopwords to\n",
      "[nltk_data]     C:\\Users\\hp\\AppData\\Roaming\\nltk_data...\n",
      "[nltk_data]   Unzipping corpora\\stopwords.zip.\n"
     ]
    },
    {
     "data": {
      "text/plain": [
       "True"
      ]
     },
     "execution_count": 24,
     "metadata": {},
     "output_type": "execute_result"
    }
   ],
   "source": [
    "nltk.download('stopwords')\n"
   ]
  },
  {
   "cell_type": "code",
   "execution_count": 18,
   "id": "656f7f0b",
   "metadata": {},
   "outputs": [
    {
     "data": {
      "text/plain": [
       "['i',\n",
       " 'me',\n",
       " 'my',\n",
       " 'myself',\n",
       " 'we',\n",
       " 'our',\n",
       " 'ours',\n",
       " 'ourselves',\n",
       " 'you',\n",
       " \"you're\",\n",
       " \"you've\",\n",
       " \"you'll\",\n",
       " \"you'd\",\n",
       " 'your',\n",
       " 'yours',\n",
       " 'yourself',\n",
       " 'yourselves',\n",
       " 'he',\n",
       " 'him',\n",
       " 'his',\n",
       " 'himself',\n",
       " 'she',\n",
       " \"she's\",\n",
       " 'her',\n",
       " 'hers',\n",
       " 'herself',\n",
       " 'it',\n",
       " \"it's\",\n",
       " 'its',\n",
       " 'itself',\n",
       " 'they',\n",
       " 'them',\n",
       " 'their',\n",
       " 'theirs',\n",
       " 'themselves',\n",
       " 'what',\n",
       " 'which',\n",
       " 'who',\n",
       " 'whom',\n",
       " 'this',\n",
       " 'that',\n",
       " \"that'll\",\n",
       " 'these',\n",
       " 'those',\n",
       " 'am',\n",
       " 'is',\n",
       " 'are',\n",
       " 'was',\n",
       " 'were',\n",
       " 'be',\n",
       " 'been',\n",
       " 'being',\n",
       " 'have',\n",
       " 'has',\n",
       " 'had',\n",
       " 'having',\n",
       " 'do',\n",
       " 'does',\n",
       " 'did',\n",
       " 'doing',\n",
       " 'a',\n",
       " 'an',\n",
       " 'the',\n",
       " 'and',\n",
       " 'but',\n",
       " 'if',\n",
       " 'or',\n",
       " 'because',\n",
       " 'as',\n",
       " 'until',\n",
       " 'while',\n",
       " 'of',\n",
       " 'at',\n",
       " 'by',\n",
       " 'for',\n",
       " 'with',\n",
       " 'about',\n",
       " 'against',\n",
       " 'between',\n",
       " 'into',\n",
       " 'through',\n",
       " 'during',\n",
       " 'before',\n",
       " 'after',\n",
       " 'above',\n",
       " 'below',\n",
       " 'to',\n",
       " 'from',\n",
       " 'up',\n",
       " 'down',\n",
       " 'in',\n",
       " 'out',\n",
       " 'on',\n",
       " 'off',\n",
       " 'over',\n",
       " 'under',\n",
       " 'again',\n",
       " 'further',\n",
       " 'then',\n",
       " 'once',\n",
       " 'here',\n",
       " 'there',\n",
       " 'when',\n",
       " 'where',\n",
       " 'why',\n",
       " 'how',\n",
       " 'all',\n",
       " 'any',\n",
       " 'both',\n",
       " 'each',\n",
       " 'few',\n",
       " 'more',\n",
       " 'most',\n",
       " 'other',\n",
       " 'some',\n",
       " 'such',\n",
       " 'no',\n",
       " 'nor',\n",
       " 'not',\n",
       " 'only',\n",
       " 'own',\n",
       " 'same',\n",
       " 'so',\n",
       " 'than',\n",
       " 'too',\n",
       " 'very',\n",
       " 's',\n",
       " 't',\n",
       " 'can',\n",
       " 'will',\n",
       " 'just',\n",
       " 'don',\n",
       " \"don't\",\n",
       " 'should',\n",
       " \"should've\",\n",
       " 'now',\n",
       " 'd',\n",
       " 'll',\n",
       " 'm',\n",
       " 'o',\n",
       " 're',\n",
       " 've',\n",
       " 'y',\n",
       " 'ain',\n",
       " 'aren',\n",
       " \"aren't\",\n",
       " 'couldn',\n",
       " \"couldn't\",\n",
       " 'didn',\n",
       " \"didn't\",\n",
       " 'doesn',\n",
       " \"doesn't\",\n",
       " 'hadn',\n",
       " \"hadn't\",\n",
       " 'hasn',\n",
       " \"hasn't\",\n",
       " 'haven',\n",
       " \"haven't\",\n",
       " 'isn',\n",
       " \"isn't\",\n",
       " 'ma',\n",
       " 'mightn',\n",
       " \"mightn't\",\n",
       " 'mustn',\n",
       " \"mustn't\",\n",
       " 'needn',\n",
       " \"needn't\",\n",
       " 'shan',\n",
       " \"shan't\",\n",
       " 'shouldn',\n",
       " \"shouldn't\",\n",
       " 'wasn',\n",
       " \"wasn't\",\n",
       " 'weren',\n",
       " \"weren't\",\n",
       " 'won',\n",
       " \"won't\",\n",
       " 'wouldn',\n",
       " \"wouldn't\"]"
      ]
     },
     "execution_count": 18,
     "metadata": {},
     "output_type": "execute_result"
    }
   ],
   "source": [
    "from nltk.corpus import stopwords\n",
    "stopwords.words('english')"
   ]
  },
  {
   "cell_type": "code",
   "execution_count": 19,
   "id": "a7f950fa",
   "metadata": {},
   "outputs": [
    {
     "data": {
      "text/plain": [
       "179"
      ]
     },
     "execution_count": 19,
     "metadata": {},
     "output_type": "execute_result"
    }
   ],
   "source": [
    "len(stopwords.words('english'))                  ## finding how many stop words in english language"
   ]
  },
  {
   "cell_type": "code",
   "execution_count": null,
   "id": "ff422017",
   "metadata": {},
   "outputs": [],
   "source": []
  },
  {
   "cell_type": "code",
   "execution_count": null,
   "id": "d8c18423",
   "metadata": {},
   "outputs": [],
   "source": []
  },
  {
   "cell_type": "code",
   "execution_count": 28,
   "id": "0737d16e",
   "metadata": {},
   "outputs": [],
   "source": [
    "from nltk.corpus import stopwords\n",
    "import matplotlib.pyplot as plt"
   ]
  },
  {
   "cell_type": "code",
   "execution_count": 21,
   "id": "a8688e8a",
   "metadata": {},
   "outputs": [
    {
     "name": "stdout",
     "output_type": "stream",
     "text": [
      "Requirement already satisfied: wordcloud in c:\\users\\hp\\anaconda3\\lib\\site-packages (1.8.1)\n",
      "Requirement already satisfied: numpy>=1.6.1 in c:\\users\\hp\\anaconda3\\lib\\site-packages (from wordcloud) (1.20.1)\n",
      "Requirement already satisfied: matplotlib in c:\\users\\hp\\anaconda3\\lib\\site-packages (from wordcloud) (3.3.4)\n",
      "Requirement already satisfied: pillow in c:\\users\\hp\\anaconda3\\lib\\site-packages (from wordcloud) (8.2.0)\n",
      "Requirement already satisfied: pyparsing!=2.0.4,!=2.1.2,!=2.1.6,>=2.0.3 in c:\\users\\hp\\anaconda3\\lib\\site-packages (from matplotlib->wordcloud) (2.4.7)\n",
      "Requirement already satisfied: kiwisolver>=1.0.1 in c:\\users\\hp\\anaconda3\\lib\\site-packages (from matplotlib->wordcloud) (1.3.1)\n",
      "Requirement already satisfied: cycler>=0.10 in c:\\users\\hp\\anaconda3\\lib\\site-packages (from matplotlib->wordcloud) (0.10.0)\n",
      "Requirement already satisfied: python-dateutil>=2.1 in c:\\users\\hp\\anaconda3\\lib\\site-packages (from matplotlib->wordcloud) (2.8.1)\n",
      "Requirement already satisfied: six in c:\\users\\hp\\anaconda3\\lib\\site-packages (from cycler>=0.10->matplotlib->wordcloud) (1.15.0)\n"
     ]
    }
   ],
   "source": [
    "!pip install wordcloud"
   ]
  },
  {
   "cell_type": "code",
   "execution_count": 22,
   "id": "bc4b1eac",
   "metadata": {},
   "outputs": [
    {
     "name": "stderr",
     "output_type": "stream",
     "text": [
      "[nltk_data] Error loading WordCloud: Package 'WordCloud' not found in\n",
      "[nltk_data]     index\n"
     ]
    },
    {
     "data": {
      "text/plain": [
       "False"
      ]
     },
     "execution_count": 22,
     "metadata": {},
     "output_type": "execute_result"
    }
   ],
   "source": [
    "nltk.download('WordCloud')"
   ]
  },
  {
   "cell_type": "code",
   "execution_count": 23,
   "id": "711eb1e4",
   "metadata": {},
   "outputs": [],
   "source": [
    "from wordcloud import WordCloud"
   ]
  },
  {
   "cell_type": "code",
   "execution_count": 29,
   "id": "53b57163",
   "metadata": {},
   "outputs": [
    {
     "data": {
      "text/plain": [
       "<matplotlib.image.AxesImage at 0x1ebcb5dad30>"
      ]
     },
     "execution_count": 29,
     "metadata": {},
     "output_type": "execute_result"
    },
    {
     "data": {
      "image/png": "[encoded data removed]",
      "text/plain": [
       "<Figure size 720x720 with 1 Axes>"
      ]
     },
     "metadata": {
      "needs_background": "light"
     },
     "output_type": "display_data"
    }
   ],
   "source": [
    "cloud=WordCloud(stopwords=stopwords.words('english'),max_words=20).generate(str(sp.message))\n",
    "plt.figure(figsize=(10,10))\n",
    "plt.imshow(cloud)"
   ]
  },
  {
   "cell_type": "code",
   "execution_count": null,
   "id": "940eefb5",
   "metadata": {},
   "outputs": [],
   "source": []
  },
  {
   "cell_type": "code",
   "execution_count": null,
   "id": "431195a4",
   "metadata": {},
   "outputs": [],
   "source": [
    "## Build a separate word cloud on spam and separate "
   ]
  },
  {
   "cell_type": "code",
   "execution_count": 32,
   "id": "ea38eaf5",
   "metadata": {},
   "outputs": [],
   "source": [
    "ham_df = sp[sp.label == 0]\n",
    "spam_df = sp[sp.label == 1]"
   ]
  },
  {
   "cell_type": "code",
   "execution_count": 35,
   "id": "5118c8ed",
   "metadata": {},
   "outputs": [
    {
     "ename": "AttributeError",
     "evalue": "'DataFrame' object has no attribute 'ham_df'",
     "output_type": "error",
     "traceback": [
      "\u001b[1;31m---------------------------------------------------------------------------\u001b[0m",
      "\u001b[1;31mAttributeError\u001b[0m                            Traceback (most recent call last)",
      "\u001b[1;32m<ipython-input-35-1cede788be56>\u001b[0m in \u001b[0;36m<module>\u001b[1;34m\u001b[0m\n\u001b[1;32m----> 1\u001b[1;33m \u001b[0mcloud\u001b[0m\u001b[1;33m=\u001b[0m\u001b[0mWordCloud\u001b[0m\u001b[1;33m(\u001b[0m\u001b[0mstopwords\u001b[0m\u001b[1;33m=\u001b[0m\u001b[0mstopwords\u001b[0m\u001b[1;33m.\u001b[0m\u001b[0mwords\u001b[0m\u001b[1;33m(\u001b[0m\u001b[1;34m'english'\u001b[0m\u001b[1;33m)\u001b[0m\u001b[1;33m,\u001b[0m\u001b[0mmax_words\u001b[0m\u001b[1;33m=\u001b[0m\u001b[1;36m20\u001b[0m\u001b[1;33m)\u001b[0m\u001b[1;33m.\u001b[0m\u001b[0mgenerate\u001b[0m\u001b[1;33m(\u001b[0m\u001b[0mstr\u001b[0m\u001b[1;33m(\u001b[0m\u001b[0msp\u001b[0m\u001b[1;33m.\u001b[0m\u001b[0mham_df\u001b[0m\u001b[1;33m)\u001b[0m\u001b[1;33m)\u001b[0m\u001b[1;33m\u001b[0m\u001b[1;33m\u001b[0m\u001b[0m\n\u001b[0m\u001b[0;32m      2\u001b[0m \u001b[0mplt\u001b[0m\u001b[1;33m.\u001b[0m\u001b[0mfigure\u001b[0m\u001b[1;33m(\u001b[0m\u001b[0mfigsize\u001b[0m\u001b[1;33m=\u001b[0m\u001b[1;33m(\u001b[0m\u001b[1;36m10\u001b[0m\u001b[1;33m,\u001b[0m\u001b[1;36m10\u001b[0m\u001b[1;33m)\u001b[0m\u001b[1;33m)\u001b[0m\u001b[1;33m\u001b[0m\u001b[1;33m\u001b[0m\u001b[0m\n\u001b[0;32m      3\u001b[0m \u001b[0mplt\u001b[0m\u001b[1;33m.\u001b[0m\u001b[0mimshow\u001b[0m\u001b[1;33m(\u001b[0m\u001b[0mcloud\u001b[0m\u001b[1;33m)\u001b[0m\u001b[1;33m\u001b[0m\u001b[1;33m\u001b[0m\u001b[0m\n",
      "\u001b[1;32m~\\anaconda3\\lib\\site-packages\\pandas\\core\\generic.py\u001b[0m in \u001b[0;36m__getattr__\u001b[1;34m(self, name)\u001b[0m\n\u001b[0;32m   5463\u001b[0m             \u001b[1;32mif\u001b[0m \u001b[0mself\u001b[0m\u001b[1;33m.\u001b[0m\u001b[0m_info_axis\u001b[0m\u001b[1;33m.\u001b[0m\u001b[0m_can_hold_identifiers_and_holds_name\u001b[0m\u001b[1;33m(\u001b[0m\u001b[0mname\u001b[0m\u001b[1;33m)\u001b[0m\u001b[1;33m:\u001b[0m\u001b[1;33m\u001b[0m\u001b[1;33m\u001b[0m\u001b[0m\n\u001b[0;32m   5464\u001b[0m                 \u001b[1;32mreturn\u001b[0m \u001b[0mself\u001b[0m\u001b[1;33m[\u001b[0m\u001b[0mname\u001b[0m\u001b[1;33m]\u001b[0m\u001b[1;33m\u001b[0m\u001b[1;33m\u001b[0m\u001b[0m\n\u001b[1;32m-> 5465\u001b[1;33m             \u001b[1;32mreturn\u001b[0m \u001b[0mobject\u001b[0m\u001b[1;33m.\u001b[0m\u001b[0m__getattribute__\u001b[0m\u001b[1;33m(\u001b[0m\u001b[0mself\u001b[0m\u001b[1;33m,\u001b[0m \u001b[0mname\u001b[0m\u001b[1;33m)\u001b[0m\u001b[1;33m\u001b[0m\u001b[1;33m\u001b[0m\u001b[0m\n\u001b[0m\u001b[0;32m   5466\u001b[0m \u001b[1;33m\u001b[0m\u001b[0m\n\u001b[0;32m   5467\u001b[0m     \u001b[1;32mdef\u001b[0m \u001b[0m__setattr__\u001b[0m\u001b[1;33m(\u001b[0m\u001b[0mself\u001b[0m\u001b[1;33m,\u001b[0m \u001b[0mname\u001b[0m\u001b[1;33m:\u001b[0m \u001b[0mstr\u001b[0m\u001b[1;33m,\u001b[0m \u001b[0mvalue\u001b[0m\u001b[1;33m)\u001b[0m \u001b[1;33m->\u001b[0m \u001b[1;32mNone\u001b[0m\u001b[1;33m:\u001b[0m\u001b[1;33m\u001b[0m\u001b[1;33m\u001b[0m\u001b[0m\n",
      "\u001b[1;31mAttributeError\u001b[0m: 'DataFrame' object has no attribute 'ham_df'"
     ]
    }
   ],
   "source": [
    "cloud=WordCloud(stopwords=stopwords.words('english'),max_words=20).generate(str(sp.ham_df))\n",
    "plt.figure(figsize=(10,10))\n",
    "plt.imshow(cloud)ham_df"
   ]
  },
  {
   "cell_type": "code",
   "execution_count": null,
   "id": "84da10b0",
   "metadata": {},
   "outputs": [],
   "source": []
  },
  {
   "cell_type": "code",
   "execution_count": null,
   "id": "fa002b71",
   "metadata": {},
   "outputs": [],
   "source": []
  },
  {
   "cell_type": "code",
   "execution_count": 32,
   "id": "c2f278d0",
   "metadata": {},
   "outputs": [],
   "source": [
    "import string"
   ]
  },
  {
   "cell_type": "code",
   "execution_count": 33,
   "id": "8611c4df",
   "metadata": {},
   "outputs": [
    {
     "data": {
      "text/plain": [
       "'!\"#$%&\\'()*+,-./:;<=>?@[\\\\]^_`{|}~'"
      ]
     },
     "execution_count": 33,
     "metadata": {},
     "output_type": "execute_result"
    }
   ],
   "source": [
    "string.punctuation"
   ]
  },
  {
   "cell_type": "code",
   "execution_count": 37,
   "id": "8255a37b",
   "metadata": {},
   "outputs": [],
   "source": [
    "def text_process(mess): ### creating a function\n",
    "    \"\"\" ## a docstring\n",
    "    1. remove the punctuation\n",
    "    2. remove the stopwords\n",
    "    3. return the list of clean textwords\n",
    "\n",
    "    \"\"\"\n",
    "    nopunc = [char for char in mess if char not in string.punctuation]\n",
    "    nopunc = \"\".join(nopunc)\n",
    "\n",
    "    return [ word for word in nopunc.split() if word not in stopwords.words(\"english\")]"
   ]
  },
  {
   "cell_type": "code",
   "execution_count": 38,
   "id": "ae95a7c7",
   "metadata": {},
   "outputs": [
    {
     "data": {
      "text/plain": [
       "'!\"#$%&\\'()*+,-./:;<=>?@[\\\\]^_`{|}~'"
      ]
     },
     "execution_count": 38,
     "metadata": {},
     "output_type": "execute_result"
    }
   ],
   "source": [
    "string.punctuation"
   ]
  },
  {
   "cell_type": "code",
   "execution_count": 41,
   "id": "60e02aa4",
   "metadata": {},
   "outputs": [],
   "source": [
    "examples = 'this is just a example to show + / if stopwordsor punctuations are removed '"
   ]
  },
  {
   "cell_type": "code",
   "execution_count": 42,
   "id": "ecddd2b5",
   "metadata": {},
   "outputs": [
    {
     "data": {
      "text/plain": [
       "['example', 'show', 'stopwordsor', 'punctuations', 'removed']"
      ]
     },
     "execution_count": 42,
     "metadata": {},
     "output_type": "execute_result"
    }
   ],
   "source": [
    "text_process(examples)"
   ]
  },
  {
   "cell_type": "code",
   "execution_count": 43,
   "id": "e681b8f3",
   "metadata": {},
   "outputs": [],
   "source": [
    "from sklearn.feature_extraction.text import CountVectorizer\n",
    "##Count vestie8zer is used to get the count of each and every word"
   ]
  },
  {
   "cell_type": "code",
   "execution_count": 44,
   "id": "ea9bedd4",
   "metadata": {},
   "outputs": [],
   "source": [
    "bow_transformer = CountVectorizer(analyzer = text_process ).fit(sp[\"message\"])"
   ]
  },
  {
   "cell_type": "code",
   "execution_count": 45,
   "id": "4f4bef29",
   "metadata": {},
   "outputs": [
    {
     "data": {
      "text/plain": [
       "{'go': 3744,\n",
       " 'jurong': 4640,\n",
       " 'point': 6371,\n",
       " 'crazy': 2459,\n",
       " 'available': 1373,\n",
       " 'bugis': 1836,\n",
       " 'n': 5620,\n",
       " 'great': 3841,\n",
       " 'world': 9100,\n",
       " 'la': 4799,\n",
       " 'e': 2984,\n",
       " 'buffet': 1834,\n",
       " 'cine': 2174,\n",
       " 'got': 3801,\n",
       " 'amore': 1140,\n",
       " 'wat': 8863,\n",
       " 'ok': 5936,\n",
       " 'lar': 4838,\n",
       " 'joking': 4608,\n",
       " 'wif': 8996,\n",
       " 'u': 8527,\n",
       " 'oni': 5968,\n",
       " 'free': 3535,\n",
       " 'entry': 3119,\n",
       " '2': 414,\n",
       " 'wkly': 9052,\n",
       " 'comp': 2290,\n",
       " 'win': 9010,\n",
       " 'fa': 3257,\n",
       " 'cup': 2514,\n",
       " 'final': 3381,\n",
       " 'tkts': 8304,\n",
       " '21st': 434,\n",
       " 'may': 5283,\n",
       " '2005': 421,\n",
       " 'text': 8143,\n",
       " '87121': 836,\n",
       " 'receive': 6769,\n",
       " 'questionstd': 6660,\n",
       " 'txt': 8511,\n",
       " 'ratetcs': 6713,\n",
       " 'apply': 1226,\n",
       " '08452810075over18s': 71,\n",
       " 'dun': 2970,\n",
       " 'say': 7123,\n",
       " 'early': 2991,\n",
       " 'hor': 4171,\n",
       " 'c': 1885,\n",
       " 'already': 1114,\n",
       " 'nah': 5627,\n",
       " 'dont': 2878,\n",
       " 'think': 8217,\n",
       " 'goes': 3758,\n",
       " 'usf': 8657,\n",
       " 'lives': 5000,\n",
       " 'around': 1277,\n",
       " 'though': 8236,\n",
       " 'freemsg': 3543,\n",
       " 'hey': 4067,\n",
       " 'darling': 2578,\n",
       " '3': 518,\n",
       " 'weeks': 8916,\n",
       " 'word': 9086,\n",
       " 'back': 1424,\n",
       " 'id': 4290,\n",
       " 'like': 4950,\n",
       " 'fun': 3606,\n",
       " 'still': 7786,\n",
       " 'tb': 8073,\n",
       " 'xxx': 9225,\n",
       " 'std': 7761,\n",
       " 'chgs': 2119,\n",
       " 'send': 7217,\n",
       " '�150': 9365,\n",
       " 'rcv': 6725,\n",
       " 'even': 3166,\n",
       " 'brother': 1803,\n",
       " 'speak': 7633,\n",
       " 'treat': 8437,\n",
       " 'aids': 1060,\n",
       " 'patent': 6166,\n",
       " 'per': 6207,\n",
       " 'request': 6882,\n",
       " 'melle': 5326,\n",
       " 'oru': 6032,\n",
       " 'minnaminunginte': 5408,\n",
       " 'nurungu': 5865,\n",
       " 'vettam': 8720,\n",
       " 'set': 7246,\n",
       " 'callertune': 1921,\n",
       " 'callers': 1920,\n",
       " 'press': 6499,\n",
       " '9': 874,\n",
       " 'copy': 2395,\n",
       " 'friends': 3567,\n",
       " 'winner': 9021,\n",
       " 'valued': 8691,\n",
       " 'network': 5703,\n",
       " 'customer': 2527,\n",
       " 'selected': 7203,\n",
       " 'receivea': 6770,\n",
       " '�900': 9406,\n",
       " 'prize': 6533,\n",
       " 'reward': 6941,\n",
       " 'claim': 2180,\n",
       " 'call': 1902,\n",
       " '09061701461': 217,\n",
       " 'code': 2241,\n",
       " 'kl341': 4755,\n",
       " 'valid': 8687,\n",
       " '12': 322,\n",
       " 'hours': 4190,\n",
       " 'mobile': 5466,\n",
       " '11': 312,\n",
       " 'months': 5511,\n",
       " 'r': 6674,\n",
       " 'entitled': 3116,\n",
       " 'update': 8614,\n",
       " 'latest': 4855,\n",
       " 'colour': 2264,\n",
       " 'mobiles': 5467,\n",
       " 'camera': 1938,\n",
       " 'co': 2230,\n",
       " '08002986030': 56,\n",
       " 'im': 4319,\n",
       " 'gonna': 3775,\n",
       " 'home': 4138,\n",
       " 'soon': 7583,\n",
       " 'want': 8842,\n",
       " 'talk': 8039,\n",
       " 'stuff': 7859,\n",
       " 'anymore': 1193,\n",
       " 'tonight': 8361,\n",
       " 'k': 4646,\n",
       " 'ive': 4514,\n",
       " 'cried': 2476,\n",
       " 'enough': 3107,\n",
       " 'today': 8321,\n",
       " 'six': 7435,\n",
       " 'chances': 2056,\n",
       " 'cash': 1999,\n",
       " '100': 292,\n",
       " '20000': 418,\n",
       " 'pounds': 6437,\n",
       " 'csh11': 2493,\n",
       " '87575': 840,\n",
       " 'cost': 2408,\n",
       " '150pday': 350,\n",
       " '6days': 723,\n",
       " '16': 374,\n",
       " 'tsandcs': 8472,\n",
       " 'reply': 6874,\n",
       " 'hl': 4104,\n",
       " '4': 578,\n",
       " 'info': 4382,\n",
       " 'urgent': 8636,\n",
       " '1': 290,\n",
       " 'week': 8911,\n",
       " 'membership': 5332,\n",
       " '�100000': 9359,\n",
       " 'jackpot': 4532,\n",
       " '81010': 786,\n",
       " 'tc': 8075,\n",
       " 'wwwdbuknet': 9169,\n",
       " 'lccltd': 4872,\n",
       " 'pobox': 6350,\n",
       " '4403ldnw1a7rw18': 599,\n",
       " 'searching': 7170,\n",
       " 'right': 6953,\n",
       " 'words': 9089,\n",
       " 'thank': 8161,\n",
       " 'breather': 1773,\n",
       " 'promise': 6572,\n",
       " 'wont': 9077,\n",
       " 'take': 8030,\n",
       " 'help': 4035,\n",
       " 'granted': 3830,\n",
       " 'fulfil': 3602,\n",
       " 'wonderful': 9074,\n",
       " 'blessing': 1644,\n",
       " 'times': 8280,\n",
       " 'date': 2587,\n",
       " 'sunday': 7927,\n",
       " 'xxxmobilemovieclub': 9226,\n",
       " 'use': 8651,\n",
       " 'credit': 2466,\n",
       " 'click': 2202,\n",
       " 'wap': 8847,\n",
       " 'link': 4973,\n",
       " 'next': 5721,\n",
       " 'message': 5357,\n",
       " 'httpwap': 4219,\n",
       " 'xxxmobilemovieclubcomnqjkgighjjgcbl': 9227,\n",
       " 'oh': 5929,\n",
       " 'kim': 4722,\n",
       " 'watching': 8868,\n",
       " 'eh': 3041,\n",
       " 'remember': 6841,\n",
       " 'spell': 7648,\n",
       " 'name': 5633,\n",
       " 'yes': 9265,\n",
       " 'v': 8679,\n",
       " 'naughty': 5659,\n",
       " 'make': 5201,\n",
       " 'wet': 8953,\n",
       " 'fine': 3389,\n",
       " 'that��s': 8179,\n",
       " 'way': 8879,\n",
       " 'feel': 3334,\n",
       " 'gota': 3802,\n",
       " 'b': 1404,\n",
       " 'england': 3098,\n",
       " 'macedonia': 5163,\n",
       " 'miss': 5427,\n",
       " 'goalsteam': 3750,\n",
       " 'news': 5716,\n",
       " 'ur': 8633,\n",
       " 'national': 5652,\n",
       " 'team': 8089,\n",
       " '87077': 835,\n",
       " 'eg': 3032,\n",
       " 'trywales': 8470,\n",
       " 'scotland': 7149,\n",
       " '4txt̼120': 643,\n",
       " 'poboxox36504w45wq': 6362,\n",
       " 'seriously': 7239,\n",
       " 'i���m': 4525,\n",
       " 'going': 3763,\n",
       " 'try': 8467,\n",
       " 'ha': 3912,\n",
       " '�': 9353,\n",
       " 'pay': 6177,\n",
       " 'first': 3409,\n",
       " 'da': 2543,\n",
       " 'stock': 7790,\n",
       " 'comin': 2280,\n",
       " 'aft': 1022,\n",
       " 'finish': 3395,\n",
       " 'lunch': 5129,\n",
       " 'str': 7817,\n",
       " 'lor': 5056,\n",
       " 'ard': 1253,\n",
       " 'smth': 7521,\n",
       " 'ffffffffff': 3351,\n",
       " 'alright': 1116,\n",
       " 'meet': 5311,\n",
       " 'sooner': 7585,\n",
       " 'forced': 3486,\n",
       " 'eat': 3004,\n",
       " 'slice': 7470,\n",
       " 'really': 6750,\n",
       " 'hungry': 4247,\n",
       " 'tho': 8232,\n",
       " 'sucks': 7897,\n",
       " 'mark': 5237,\n",
       " 'getting': 3703,\n",
       " 'worried': 9106,\n",
       " 'knows': 4766,\n",
       " 'sick': 7378,\n",
       " 'turn': 8493,\n",
       " 'pizza': 6300,\n",
       " 'lol': 5033,\n",
       " 'always': 1126,\n",
       " 'convincing': 2381,\n",
       " 'catch': 2011,\n",
       " 'bus': 1856,\n",
       " 'frying': 3590,\n",
       " 'egg': 3036,\n",
       " 'tea': 8083,\n",
       " 'eating': 3007,\n",
       " 'moms': 5490,\n",
       " 'left': 4894,\n",
       " 'dinner': 2786,\n",
       " 'love': 5081,\n",
       " 'amp': 1142,\n",
       " 'packing': 6090,\n",
       " 'car': 1966,\n",
       " 'ill': 4316,\n",
       " 'let': 4917,\n",
       " 'know': 4762,\n",
       " 'theres': 8202,\n",
       " 'room': 6998,\n",
       " 'ahhh': 1051,\n",
       " 'work': 9092,\n",
       " 'vaguely': 8682,\n",
       " 'wait': 8812,\n",
       " 'thats': 8178,\n",
       " 'clear': 2196,\n",
       " 'sure': 7955,\n",
       " 'sarcastic': 7100,\n",
       " 'x': 9206,\n",
       " 'doesnt': 2850,\n",
       " 'live': 4996,\n",
       " 'us': 8647,\n",
       " 'yeah': 9252,\n",
       " 'apologetic': 1214,\n",
       " 'fallen': 3284,\n",
       " 'actin': 961,\n",
       " 'spoilt': 7676,\n",
       " 'child': 2135,\n",
       " 'caught': 2015,\n",
       " 'till': 8275,\n",
       " 'badly': 1430,\n",
       " 'cheers': 2101,\n",
       " 'tell': 8108,\n",
       " 'anything': 1199,\n",
       " 'fear': 3326,\n",
       " 'fainting': 3274,\n",
       " 'housework': 4195,\n",
       " 'quick': 6661,\n",
       " 'cuppa': 2516,\n",
       " 'thanks': 8162,\n",
       " 'subscription': 7886,\n",
       " 'ringtone': 6962,\n",
       " 'uk': 8542,\n",
       " 'charged': 2068,\n",
       " '�5month': 9398,\n",
       " 'please': 6329,\n",
       " 'confirm': 2336,\n",
       " 'replying': 6876,\n",
       " 'yup': 9336,\n",
       " 'look': 5044,\n",
       " 'timings': 8287,\n",
       " 'msg': 5553,\n",
       " 'xuhui': 9221,\n",
       " 'learn': 4883,\n",
       " '2nd': 493,\n",
       " 'lesson': 4915,\n",
       " '8am': 863,\n",
       " 'oops': 5986,\n",
       " 'roommates': 7001,\n",
       " 'done': 2875,\n",
       " 'see': 7187,\n",
       " 'letter': 4919,\n",
       " 'decide': 2641,\n",
       " 'hello': 4028,\n",
       " 'hows': 4202,\n",
       " 'saturday': 7114,\n",
       " 'texting': 8151,\n",
       " 'youd': 9299,\n",
       " 'decided': 2642,\n",
       " 'tomo': 8346,\n",
       " 'trying': 8469,\n",
       " 'invite': 4446,\n",
       " 'pls': 6337,\n",
       " 'ahead': 1049,\n",
       " 'watts': 8877,\n",
       " 'wanted': 8844,\n",
       " 'weekend': 8913,\n",
       " 'abiola': 913,\n",
       " 'forget': 3492,\n",
       " 'need': 5678,\n",
       " 'crave': 2456,\n",
       " 'sweet': 7986,\n",
       " 'arabian': 1250,\n",
       " 'steed': 7768,\n",
       " 'mmmmmm': 5456,\n",
       " 'yummy': 9331,\n",
       " '07732584351': 29,\n",
       " 'rodger': 6987,\n",
       " 'burns': 1853,\n",
       " 'tried': 8446,\n",
       " 'sms': 7515,\n",
       " 'nokia': 5785,\n",
       " 'camcorder': 1936,\n",
       " '08000930705': 52,\n",
       " 'delivery': 2680,\n",
       " 'tomorrow': 8349,\n",
       " 'seeing': 7189,\n",
       " 'hope': 4162,\n",
       " 'man': 5211,\n",
       " 'well': 8930,\n",
       " 'endowed': 3088,\n",
       " 'ltgt': 5114,\n",
       " 'inches': 4350,\n",
       " 'callsmessagesmissed': 1929,\n",
       " 'calls': 1927,\n",
       " 'didnt': 2754,\n",
       " 'get': 3695,\n",
       " 'hep': 4049,\n",
       " 'immunisation': 4331,\n",
       " 'nigeria': 5734,\n",
       " 'fair': 3275,\n",
       " 'hopefully': 4166,\n",
       " 'tyler': 8521,\n",
       " 'cant': 1955,\n",
       " 'could': 2420,\n",
       " 'maybe': 5285,\n",
       " 'ask': 1305,\n",
       " 'bit': 1619,\n",
       " 'stubborn': 7848,\n",
       " 'hospital': 4178,\n",
       " 'kept': 4693,\n",
       " 'telling': 8109,\n",
       " 'weak': 8885,\n",
       " 'sucker': 7895,\n",
       " 'hospitals': 4179,\n",
       " 'suckers': 7896,\n",
       " 'thinked': 8218,\n",
       " 'time': 8277,\n",
       " 'saw': 7122,\n",
       " 'class': 2188,\n",
       " 'gram': 3822,\n",
       " 'usually': 8668,\n",
       " 'runs': 7044,\n",
       " 'half': 3929,\n",
       " 'eighth': 3044,\n",
       " 'smarter': 7493,\n",
       " 'gets': 3699,\n",
       " 'almost': 1110,\n",
       " 'whole': 8985,\n",
       " 'second': 7174,\n",
       " 'fyi': 3621,\n",
       " 'ride': 6952,\n",
       " 'morning': 5520,\n",
       " 'hes': 4062,\n",
       " 'crashing': 2455,\n",
       " 'place': 6302,\n",
       " 'wow': 9125,\n",
       " 'never': 5707,\n",
       " 'realized': 6748,\n",
       " 'embarassed': 3069,\n",
       " 'accomodations': 941,\n",
       " 'thought': 8237,\n",
       " 'liked': 4951,\n",
       " 'since': 7405,\n",
       " 'best': 1573,\n",
       " 'seemed': 7193,\n",
       " 'happy': 3963,\n",
       " 'cave': 2019,\n",
       " 'sorry': 7595,\n",
       " 'give': 3725,\n",
       " 'offered': 5909,\n",
       " 'embarassing': 3070,\n",
       " 'ac': 927,\n",
       " 'sptv': 7699,\n",
       " 'new': 5711,\n",
       " 'jersey': 4575,\n",
       " 'devils': 2733,\n",
       " 'detroit': 2727,\n",
       " 'red': 6793,\n",
       " 'wings': 9019,\n",
       " 'play': 6318,\n",
       " 'ice': 4285,\n",
       " 'hockey': 4122,\n",
       " 'correct': 2400,\n",
       " 'incorrect': 4361,\n",
       " 'end': 3084,\n",
       " 'mallika': 5210,\n",
       " 'sherawat': 7300,\n",
       " 'yesterday': 9280,\n",
       " 'find': 3386,\n",
       " 'lturlgt': 5117,\n",
       " 'congrats': 2343,\n",
       " 'year': 9254,\n",
       " 'special': 7635,\n",
       " 'cinema': 2175,\n",
       " 'pass': 6154,\n",
       " '09061209465': 212,\n",
       " 'suprman': 7953,\n",
       " 'matrix3': 5270,\n",
       " 'starwars3': 7748,\n",
       " 'etc': 3152,\n",
       " 'bx420ip45we': 1878,\n",
       " '150pm': 351,\n",
       " 'later': 4853,\n",
       " 'meeting': 5314,\n",
       " 'reached': 6731,\n",
       " 'yesgauti': 9273,\n",
       " 'sehwag': 7200,\n",
       " 'odi': 5903,\n",
       " 'series': 7237,\n",
       " 'pick': 6270,\n",
       " 'burger': 1848,\n",
       " 'move': 5538,\n",
       " 'pain': 6097,\n",
       " 'killing': 4719,\n",
       " 'good': 3777,\n",
       " 'joke': 4603,\n",
       " 'girls': 3722,\n",
       " 'situation': 7431,\n",
       " 'seekers': 7190,\n",
       " 'part': 6141,\n",
       " 'checking': 2095,\n",
       " 'iq': 4461,\n",
       " 'took': 8367,\n",
       " 'forever': 3489,\n",
       " 'come': 2272,\n",
       " 'double': 2893,\n",
       " 'check': 2091,\n",
       " 'hair': 3924,\n",
       " 'dresser': 2927,\n",
       " 'said': 7069,\n",
       " 'wun': 9155,\n",
       " 'cut': 2531,\n",
       " 'short': 7340,\n",
       " 'nice': 5727,\n",
       " 'pleased': 6330,\n",
       " 'advise': 1005,\n",
       " 'following': 3468,\n",
       " 'recent': 6773,\n",
       " 'review': 6939,\n",
       " 'mob': 5464,\n",
       " 'awarded': 1392,\n",
       " '�1500': 9366,\n",
       " 'bonus': 1688,\n",
       " '09066364589': 261,\n",
       " 'song': 7577,\n",
       " 'dedicated': 2652,\n",
       " 'day': 2599,\n",
       " 'dedicate': 2651,\n",
       " 'valuable': 8689,\n",
       " 'frnds': 3576,\n",
       " 'rply': 7017,\n",
       " 'complimentary': 2309,\n",
       " 'trip': 8447,\n",
       " 'eurodisinc': 3159,\n",
       " 'trav': 8429,\n",
       " 'acoentry41': 956,\n",
       " '�1000': 9357,\n",
       " 'dis': 2799,\n",
       " '186�150morefrmmob': 383,\n",
       " 'shracomorsglsuplt10': 7364,\n",
       " 'ls1': 5103,\n",
       " '3aj': 551,\n",
       " 'hear': 4004,\n",
       " 'divorce': 2828,\n",
       " 'barbie': 1460,\n",
       " 'comes': 2276,\n",
       " 'kens': 4691,\n",
       " 'plane': 6309,\n",
       " 'month': 5507,\n",
       " 'wah': 8805,\n",
       " 'lucky': 5122,\n",
       " 'save': 7118,\n",
       " 'money': 5495,\n",
       " 'hee': 4020,\n",
       " 'finished': 3397,\n",
       " 'hi': 4073,\n",
       " 'babe': 1413,\n",
       " 'wanna': 8840,\n",
       " 'something': 7563,\n",
       " 'xx': 9222,\n",
       " 'kkwhere': 4752,\n",
       " 'youhow': 9302,\n",
       " 'performed': 6214,\n",
       " 'waiting': 8816,\n",
       " 'machan': 5165,\n",
       " 'cool': 2387,\n",
       " 'gentleman': 3686,\n",
       " 'dignity': 2776,\n",
       " 'respect': 6903,\n",
       " 'peoples': 6206,\n",
       " 'much': 5573,\n",
       " 'shy': 7373,\n",
       " 'pa': 6085,\n",
       " 'operate': 5993,\n",
       " 'looking': 5048,\n",
       " 'job': 4590,\n",
       " 'tas': 8057,\n",
       " 'earn': 2992,\n",
       " 'ah': 1047,\n",
       " 'stop': 7800,\n",
       " 'urgnt': 8640,\n",
       " 'real': 6741,\n",
       " 'yo': 9290,\n",
       " 'tickets': 8266,\n",
       " 'one': 5964,\n",
       " 'jacket': 4531,\n",
       " 'used': 8652,\n",
       " 'multis': 5584,\n",
       " 'started': 7741,\n",
       " 'requests': 6883,\n",
       " 'came': 1937,\n",
       " 'bed': 1529,\n",
       " 'coins': 2248,\n",
       " 'factory': 3265,\n",
       " 'gotta': 3806,\n",
       " 'nitros': 5757,\n",
       " 'ela': 3049,\n",
       " 'kanoil': 4668,\n",
       " 'download': 2901,\n",
       " 'wen': 8936,\n",
       " 'don���t': 2883,\n",
       " 'stand': 7729,\n",
       " 'close': 2209,\n",
       " 'you���ll': 9323,\n",
       " 'another': 1177,\n",
       " 'night': 5736,\n",
       " 'spent': 7653,\n",
       " 'late': 4848,\n",
       " 'afternoon': 1024,\n",
       " 'casualty': 2009,\n",
       " 'means': 5297,\n",
       " 'havent': 3985,\n",
       " 'stuff42moro': 7860,\n",
       " 'includes': 4354,\n",
       " 'sheets': 7295,\n",
       " 'smile': 7502,\n",
       " 'pleasure': 6332,\n",
       " 'trouble': 8453,\n",
       " 'pours': 6439,\n",
       " 'rain': 6686,\n",
       " 'sum1': 7918,\n",
       " 'hurts': 4261,\n",
       " 'becoz': 1527,\n",
       " 'someone': 7556,\n",
       " 'loves': 5091,\n",
       " 'smiling': 7506,\n",
       " 'service': 7242,\n",
       " 'representative': 6880,\n",
       " '0800': 48,\n",
       " '169': 376,\n",
       " '6031': 691,\n",
       " '10am9pm': 306,\n",
       " 'guaranteed': 3879,\n",
       " '�5000': 9393,\n",
       " 'planning': 6314,\n",
       " 'buy': 1868,\n",
       " 'lido': 4932,\n",
       " '530': 663,\n",
       " 'show': 7355,\n",
       " 'collected': 2257,\n",
       " 'simply': 7402,\n",
       " 'password': 6162,\n",
       " 'mix': 5447,\n",
       " '85069': 821,\n",
       " 'verify': 8716,\n",
       " 'usher': 8659,\n",
       " 'britney': 1793,\n",
       " 'fml': 3458,\n",
       " 'telugu': 8114,\n",
       " 'moviewat': 5543,\n",
       " 'abt': 922,\n",
       " 'loads': 5010,\n",
       " 'loans': 5012,\n",
       " 'wk': 9048,\n",
       " 'hols': 4136,\n",
       " 'run': 7041,\n",
       " 'forgot': 3497,\n",
       " 'hairdressers': 3926,\n",
       " 'appointment': 1230,\n",
       " 'four': 3516,\n",
       " 'shower': 7357,\n",
       " 'beforehand': 1542,\n",
       " 'cause': 2016,\n",
       " 'prob': 6539,\n",
       " 'ham': 3935,\n",
       " 'nothing': 5819,\n",
       " 'else': 3063,\n",
       " 'okay': 5937,\n",
       " 'price': 6512,\n",
       " 'long': 5040,\n",
       " 'legal': 4897,\n",
       " 'ave': 1379,\n",
       " 'ams': 1146,\n",
       " 'gone': 3772,\n",
       " '4the': 640,\n",
       " 'driving': 2936,\n",
       " 'test': 8137,\n",
       " 'yet': 9281,\n",
       " 'youre': 9312,\n",
       " 'mean': 5293,\n",
       " 'guess': 3887,\n",
       " 'gave': 3656,\n",
       " 'boston': 1710,\n",
       " 'men': 5337,\n",
       " 'changed': 2058,\n",
       " 'search': 7169,\n",
       " 'location': 5015,\n",
       " 'nyc': 5875,\n",
       " 'cuz': 2538,\n",
       " 'signin': 7390,\n",
       " 'page': 6093,\n",
       " 'says': 7127,\n",
       " 'umma': 8551,\n",
       " 'life': 4935,\n",
       " 'vava': 8703,\n",
       " 'lot': 5066,\n",
       " 'dear': 2623,\n",
       " 'wishes': 9033,\n",
       " 'birthday': 1617,\n",
       " 'making': 5205,\n",
       " 'truly': 8461,\n",
       " 'memorable': 5334,\n",
       " 'aight': 1062,\n",
       " 'hit': 4095,\n",
       " 'would': 9121,\n",
       " 'ip': 4454,\n",
       " 'address': 980,\n",
       " 'considering': 2354,\n",
       " 'computer': 2316,\n",
       " 'isnt': 4480,\n",
       " 'minecraft': 5404,\n",
       " 'server': 7241,\n",
       " 'grumpy': 3872,\n",
       " 'old': 5954,\n",
       " 'people': 6205,\n",
       " 'mom': 5487,\n",
       " 'better': 1581,\n",
       " 'lying': 5145,\n",
       " 'jokes': 4605,\n",
       " 'worry': 9109,\n",
       " 'busy': 1862,\n",
       " 'plural': 6342,\n",
       " 'noun': 5828,\n",
       " 'research': 6889,\n",
       " 'dinnermsg': 2787,\n",
       " 'cos': 2406,\n",
       " 'things': 8216,\n",
       " 'scared': 7134,\n",
       " 'mah': 5189,\n",
       " 'loud': 5076,\n",
       " 'gent': 3684,\n",
       " 'contact': 2359,\n",
       " 'last': 4845,\n",
       " 'weekends': 8914,\n",
       " 'draw': 2915,\n",
       " 'shows': 7363,\n",
       " '09064012160': 236,\n",
       " 'k52': 4647,\n",
       " '12hrs': 333,\n",
       " '150ppm': 361,\n",
       " 'wa': 8800,\n",
       " 'openin': 5990,\n",
       " 'sentence': 7230,\n",
       " 'formal': 3500,\n",
       " 'anyway': 1203,\n",
       " 'juz': 4645,\n",
       " 'tt': 8479,\n",
       " 'eatin': 3006,\n",
       " 'puttin': 6637,\n",
       " 'weighthaha': 8921,\n",
       " 'anythin': 1198,\n",
       " 'happened': 3955,\n",
       " 'entered': 3109,\n",
       " 'cabin': 1888,\n",
       " 'bday': 1512,\n",
       " 'boss': 1709,\n",
       " 'felt': 3343,\n",
       " 'askd': 1306,\n",
       " 'invited': 4447,\n",
       " 'apartment': 1208,\n",
       " 'went': 8939,\n",
       " 'specially': 7639,\n",
       " 'holiday': 4132,\n",
       " 'flights': 3435,\n",
       " 'inc': 4348,\n",
       " 'operator': 5994,\n",
       " '0871277810910pmin': 121,\n",
       " '18': 379,\n",
       " 'goodo': 3791,\n",
       " 'must': 5604,\n",
       " 'friday': 3560,\n",
       " 'eggpotato': 3037,\n",
       " 'ratio': 6715,\n",
       " 'tortilla': 8386,\n",
       " 'needed': 5680,\n",
       " 'hmmmy': 4117,\n",
       " 'uncle': 8558,\n",
       " 'informed': 4386,\n",
       " 'paying': 6182,\n",
       " 'school': 7140,\n",
       " 'directly': 2793,\n",
       " 'food': 3475,\n",
       " 'private': 6530,\n",
       " '2004': 420,\n",
       " 'account': 945,\n",
       " 'statement': 7751,\n",
       " '07742676969': 31,\n",
       " '786': 753,\n",
       " 'unredeemed': 8600,\n",
       " 'points': 6372,\n",
       " '08719180248': 169,\n",
       " 'identifier': 4297,\n",
       " '45239': 611,\n",
       " 'expires': 3235,\n",
       " '�2000': 9378,\n",
       " 'caller': 1919,\n",
       " '5903': 668,\n",
       " 'landline': 4825,\n",
       " '09064019788': 242,\n",
       " 'box42wr29c': 1736,\n",
       " 'applespairsall': 1224,\n",
       " 'malarky': 5207,\n",
       " 'todays': 8327,\n",
       " 'voda': 8769,\n",
       " 'numbers': 5861,\n",
       " 'ending': 3086,\n",
       " '7548': 748,\n",
       " '350': 541,\n",
       " 'award': 1391,\n",
       " 'match': 5258,\n",
       " '08712300220': 103,\n",
       " 'quoting': 6673,\n",
       " '4041': 583,\n",
       " 'standard': 7730,\n",
       " 'rates': 6712,\n",
       " 'app': 1218,\n",
       " 'sao': 7094,\n",
       " 'mu': 5572,\n",
       " '��': 9409,\n",
       " 'predict': 6474,\n",
       " '�ll': 9407,\n",
       " 'buying': 1871,\n",
       " 'knowyetunde': 4769,\n",
       " 'hasnt': 3975,\n",
       " 'sent': 7228,\n",
       " 'bother': 1712,\n",
       " 'sending': 7220,\n",
       " 'involve': 4451,\n",
       " 'shouldnt': 7349,\n",
       " 'imposed': 4337,\n",
       " 'apologise': 1215,\n",
       " 'girl': 3718,\n",
       " 'del': 2670,\n",
       " 'bak': 1438,\n",
       " 'sum': 7917,\n",
       " 'lucyxx': 5126,\n",
       " 'kkhow': 4746,\n",
       " 'tmorrowpls': 8309,\n",
       " 'accomodate': 940,\n",
       " 'answer': 1180,\n",
       " 'question': 6657,\n",
       " 'sunshine': 7934,\n",
       " 'quiz': 6668,\n",
       " 'q': 6643,\n",
       " 'top': 8376,\n",
       " 'sony': 7580,\n",
       " 'dvd': 2979,\n",
       " 'player': 6320,\n",
       " 'country': 2427,\n",
       " 'algarve': 1091,\n",
       " 'ansr': 1179,\n",
       " '82277': 792,\n",
       " 'sptyrone': 7700,\n",
       " 'laid': 4816,\n",
       " 'dogging': 2857,\n",
       " 'locations': 5016,\n",
       " 'direct': 2792,\n",
       " 'join': 4598,\n",
       " 'uks': 8545,\n",
       " 'largest': 4842,\n",
       " 'bt': 1820,\n",
       " 'txting': 8516,\n",
       " 'gravel': 3835,\n",
       " '69888': 717,\n",
       " 'nt': 5849,\n",
       " 'ec2a': 3009,\n",
       " '31pmsg150p': 534,\n",
       " 'haf': 3918,\n",
       " 'msn': 5565,\n",
       " 'yijuehotmailcom': 9287,\n",
       " 'rooms': 7002,\n",
       " 'befor': 1541,\n",
       " 'activities': 967,\n",
       " 'youll': 9306,\n",
       " 'msgs': 5557,\n",
       " 'chat': 2080,\n",
       " 'svc': 7971,\n",
       " 'hardcore': 3965,\n",
       " 'services': 7243,\n",
       " '69988': 721,\n",
       " 'age': 1032,\n",
       " 'yr': 9327,\n",
       " 'lazy': 4871,\n",
       " 'type': 8523,\n",
       " 'lect': 4891,\n",
       " 'pouch': 6434,\n",
       " 'sir': 7417,\n",
       " 'mail': 5192,\n",
       " 'swt': 8000,\n",
       " 'nver': 5870,\n",
       " 'tired': 8290,\n",
       " 'little': 4995,\n",
       " 'lovable': 5080,\n",
       " 'persons': 6232,\n",
       " 'cozsomtimes': 2441,\n",
       " 'occupy': 5896,\n",
       " 'biggest': 1598,\n",
       " 'hearts': 4012,\n",
       " 'gud': 3881,\n",
       " 'ni8': 5724,\n",
       " 'open': 5987,\n",
       " 'ya': 9236,\n",
       " 'dot': 2892,\n",
       " 'whats': 8962,\n",
       " 'staff': 7720,\n",
       " 'taking': 8036,\n",
       " 'replied': 6872,\n",
       " 'randy': 6705,\n",
       " 'sexy': 7259,\n",
       " 'female': 3344,\n",
       " 'local': 5014,\n",
       " 'luv': 5135,\n",
       " 'netcollex': 5699,\n",
       " 'ltd': 5109,\n",
       " '08700621170150p': 73,\n",
       " 'ummmawill': 8552,\n",
       " 'inour': 4403,\n",
       " 'begin': 1547,\n",
       " 'qatar': 6644,\n",
       " 'pray': 6467,\n",
       " 'hard': 3964,\n",
       " 'ki': 4707,\n",
       " 'deleted': 2674,\n",
       " 'sindu': 7407,\n",
       " 'birla': 1613,\n",
       " 'soft': 7543,\n",
       " 'wine': 9017,\n",
       " 'flowing': 3449,\n",
       " 'nevering': 5708,\n",
       " 'thk': 8226,\n",
       " 'plaza': 6327,\n",
       " 'typical': 8526,\n",
       " 'everywhere': 3185,\n",
       " 'dirt': 2796,\n",
       " 'floor': 3443,\n",
       " 'windows': 9014,\n",
       " 'shirt': 7314,\n",
       " 'sometimes': 7567,\n",
       " 'mouth': 5537,\n",
       " 'dream': 2919,\n",
       " 'without': 9042,\n",
       " 'chores': 2161,\n",
       " 'joy': 4620,\n",
       " 'lots': 5069,\n",
       " 'tv': 8498,\n",
       " 'exist': 3219,\n",
       " 'hail': 3923,\n",
       " 'mist': 5438,\n",
       " 'become': 1525,\n",
       " 'aaooooright': 902,\n",
       " 'leaving': 4890,\n",
       " 'house': 4191,\n",
       " 'interview': 4433,\n",
       " 'boy': 1741,\n",
       " 'meare': 5300,\n",
       " 'missing': 5431,\n",
       " 'annoncement': 1170,\n",
       " 'years': 9255,\n",
       " '07046744435': 22,\n",
       " 'arrange': 1281,\n",
       " '0871277810810': 120,\n",
       " 'keep': 4685,\n",
       " 'safe': 7064,\n",
       " 'envy': 3123,\n",
       " 'everyone': 3179,\n",
       " 'sees': 7197,\n",
       " 'parentsi': 6133,\n",
       " 'hand': 3938,\n",
       " 'excited': 3207,\n",
       " 'spend': 7651,\n",
       " 'bootydelious': 1701,\n",
       " '32f': 539,\n",
       " 'inviting': 4448,\n",
       " 'friend': 3565,\n",
       " 'yes434': 9267,\n",
       " 'no434': 5764,\n",
       " 'wwwsmsacubootydelious': 9189,\n",
       " 'frnd': 3575,\n",
       " '62468': 699,\n",
       " 'bangbabes': 1452,\n",
       " 'order': 6018,\n",
       " 'content': 2363,\n",
       " 'goto': 3805,\n",
       " 'bangb': 1451,\n",
       " 'internetservice': 4432,\n",
       " 'menu': 5345,\n",
       " 'cultures': 2510,\n",
       " 'module': 5480,\n",
       " '09061701939': 219,\n",
       " 's89': 7054,\n",
       " 'avoid': 1385,\n",
       " 'missunderstding': 5436,\n",
       " 'wit': 9038,\n",
       " 'beloved': 1563,\n",
       " 'ones': 5966,\n",
       " 'escape': 3142,\n",
       " 'fancy': 3296,\n",
       " 'bridge': 1778,\n",
       " 'needs': 5684,\n",
       " 'lager': 4815,\n",
       " 'completely': 2305,\n",
       " 'formclark': 3504,\n",
       " 'also': 1120,\n",
       " 'utter': 8670,\n",
       " 'waste': 8860,\n",
       " 'axis': 1399,\n",
       " 'bank': 1454,\n",
       " 'hmmm': 4111,\n",
       " 'hop': 4161,\n",
       " 'muz': 5610,\n",
       " 'discuss': 2812,\n",
       " 'liao': 4924,\n",
       " 'coming': 2281,\n",
       " 'bloody': 1659,\n",
       " 'hell': 4026,\n",
       " 'believe': 1554,\n",
       " 'surname': 7961,\n",
       " ...}"
      ]
     },
     "execution_count": 45,
     "metadata": {},
     "output_type": "execute_result"
    }
   ],
   "source": [
    "bow_transformer.vocabulary_"
   ]
  },
  {
   "cell_type": "code",
   "execution_count": 46,
   "id": "eb0af77d",
   "metadata": {},
   "outputs": [
    {
     "data": {
      "text/plain": [
       "9419"
      ]
     },
     "execution_count": 46,
     "metadata": {},
     "output_type": "execute_result"
    }
   ],
   "source": [
    "len(bow_transformer.vocabulary_)             ## total number of unique words\n",
    "\n",
    "## to our TDM will have same number if column"
   ]
  },
  {
   "cell_type": "code",
   "execution_count": 47,
   "id": "69fd7ec2",
   "metadata": {},
   "outputs": [],
   "source": [
    "sp_bow = bow_transformer.transform(sp.message)        ### Creating TDM\n",
    "\n",
    "## This TDM will act as X variables"
   ]
  },
  {
   "cell_type": "code",
   "execution_count": 48,
   "id": "88a644cc",
   "metadata": {},
   "outputs": [
    {
     "data": {
      "text/plain": [
       "(6776, 9419)"
      ]
     },
     "execution_count": 48,
     "metadata": {},
     "output_type": "execute_result"
    }
   ],
   "source": [
    "sp_bow.shape"
   ]
  },
  {
   "cell_type": "code",
   "execution_count": 49,
   "id": "93191e2e",
   "metadata": {},
   "outputs": [
    {
     "data": {
      "text/plain": [
       "scipy.sparse.csr.csr_matrix"
      ]
     },
     "execution_count": 49,
     "metadata": {},
     "output_type": "execute_result"
    }
   ],
   "source": [
    "type(sp_bow)"
   ]
  },
  {
   "cell_type": "code",
   "execution_count": null,
   "id": "48abae31",
   "metadata": {},
   "outputs": [],
   "source": []
  },
  {
   "cell_type": "code",
   "execution_count": null,
   "id": "2e7c8bb5",
   "metadata": {},
   "outputs": [],
   "source": []
  },
  {
   "cell_type": "code",
   "execution_count": 50,
   "id": "789865b7",
   "metadata": {},
   "outputs": [],
   "source": [
    "from sklearn.model_selection import train_test_split"
   ]
  },
  {
   "cell_type": "code",
   "execution_count": 51,
   "id": "0c180878",
   "metadata": {},
   "outputs": [],
   "source": [
    "x_train ,x_test,y_train , y_test = train_test_split(sp_bow , sp.label , test_size= .2)"
   ]
  },
  {
   "cell_type": "code",
   "execution_count": 52,
   "id": "bc963d2e",
   "metadata": {},
   "outputs": [],
   "source": [
    "from sklearn.naive_bayes import MultinomialNB"
   ]
  },
  {
   "cell_type": "code",
   "execution_count": 53,
   "id": "0f958049",
   "metadata": {},
   "outputs": [],
   "source": [
    "nb = MultinomialNB()"
   ]
  },
  {
   "cell_type": "code",
   "execution_count": 54,
   "id": "060e5a46",
   "metadata": {},
   "outputs": [
    {
     "data": {
      "text/plain": [
       "MultinomialNB()"
      ]
     },
     "execution_count": 54,
     "metadata": {},
     "output_type": "execute_result"
    }
   ],
   "source": [
    "nb.fit(x_train , y_train)"
   ]
  },
  {
   "cell_type": "code",
   "execution_count": 55,
   "id": "9e8324b1",
   "metadata": {},
   "outputs": [],
   "source": [
    "pred = nb.predict(x_test)"
   ]
  },
  {
   "cell_type": "code",
   "execution_count": 56,
   "id": "cc6e2772",
   "metadata": {},
   "outputs": [
    {
     "data": {
      "text/plain": [
       "array([[1128,   11],\n",
       "       [  22,  195]], dtype=int64)"
      ]
     },
     "execution_count": 56,
     "metadata": {},
     "output_type": "execute_result"
    }
   ],
   "source": [
    "from sklearn.metrics import confusion_matrix\n",
    "tab_nb = confusion_matrix(pred ,y_test)\n",
    "tab_nb"
   ]
  },
  {
   "cell_type": "code",
   "execution_count": 58,
   "id": "8167cb4a",
   "metadata": {},
   "outputs": [
    {
     "data": {
      "text/plain": [
       "97.56637168141593"
      ]
     },
     "execution_count": 58,
     "metadata": {},
     "output_type": "execute_result"
    }
   ],
   "source": [
    "tab_nb.diagonal().sum() / tab_nb.sum() * 100                ## Accuracy"
   ]
  },
  {
   "cell_type": "code",
   "execution_count": null,
   "id": "ff3e8ae5",
   "metadata": {},
   "outputs": [],
   "source": []
  },
  {
   "cell_type": "markdown",
   "id": "17886b7a",
   "metadata": {},
   "source": [
    "## Decesion tree"
   ]
  },
  {
   "cell_type": "code",
   "execution_count": 59,
   "id": "22850dd9",
   "metadata": {},
   "outputs": [],
   "source": [
    "from sklearn.tree import DecisionTreeClassifier\n",
    "dc= DecisionTreeClassifier(criterion='entropy', min_samples_split=  150 , max_depth= 3 , splitter='best')"
   ]
  },
  {
   "cell_type": "code",
   "execution_count": 60,
   "id": "fe4732f4",
   "metadata": {},
   "outputs": [
    {
     "data": {
      "text/plain": [
       "DecisionTreeClassifier(criterion='entropy', max_depth=3, min_samples_split=150)"
      ]
     },
     "execution_count": 60,
     "metadata": {},
     "output_type": "execute_result"
    }
   ],
   "source": [
    "dc.fit(x_train,y_train)\n"
   ]
  },
  {
   "cell_type": "code",
   "execution_count": 61,
   "id": "f7e13921",
   "metadata": {},
   "outputs": [],
   "source": [
    "pred_dc = dc.predict(x_test)\n"
   ]
  },
  {
   "cell_type": "code",
   "execution_count": 62,
   "id": "9df7e9c7",
   "metadata": {},
   "outputs": [
    {
     "data": {
      "text/plain": [
       "array([[1088,   61],\n",
       "       [  62,  145]], dtype=int64)"
      ]
     },
     "execution_count": 62,
     "metadata": {},
     "output_type": "execute_result"
    }
   ],
   "source": [
    "tab_dc=confusion_matrix(pred_dc,y_test)\n",
    "tab_dc"
   ]
  },
  {
   "cell_type": "code",
   "execution_count": 63,
   "id": "989b3c3e",
   "metadata": {},
   "outputs": [
    {
     "data": {
      "text/plain": [
       "90.929203539823"
      ]
     },
     "execution_count": 63,
     "metadata": {},
     "output_type": "execute_result"
    }
   ],
   "source": [
    "acc=tab_dc.diagonal().sum()*100/tab_dc.sum()\n",
    "acc"
   ]
  },
  {
   "cell_type": "code",
   "execution_count": null,
   "id": "1a5c1e74",
   "metadata": {},
   "outputs": [],
   "source": []
  },
  {
   "cell_type": "markdown",
   "id": "b3a9040a",
   "metadata": {},
   "source": [
    "## Random Forest"
   ]
  },
  {
   "cell_type": "code",
   "execution_count": 68,
   "id": "6bf4574a",
   "metadata": {},
   "outputs": [],
   "source": [
    "from sklearn.ensemble import RandomForestClassifier\n",
    "rfc =RandomForestClassifier(n_estimators=101 , criterion='entropy' , class_weight='balanced')"
   ]
  },
  {
   "cell_type": "code",
   "execution_count": 69,
   "id": "0875e568",
   "metadata": {},
   "outputs": [
    {
     "data": {
      "text/plain": [
       "RandomForestClassifier(class_weight='balanced', criterion='entropy',\n",
       "                       n_estimators=101)"
      ]
     },
     "execution_count": 69,
     "metadata": {},
     "output_type": "execute_result"
    }
   ],
   "source": [
    "rfc.fit(x_train , y_train)"
   ]
  },
  {
   "cell_type": "code",
   "execution_count": 70,
   "id": "f849862f",
   "metadata": {},
   "outputs": [],
   "source": [
    "pred_rfc = rfc.predict(x_test)"
   ]
  },
  {
   "cell_type": "code",
   "execution_count": 71,
   "id": "02b89ac7",
   "metadata": {},
   "outputs": [
    {
     "data": {
      "text/plain": [
       "array([[1150,   34],\n",
       "       [   0,  172]], dtype=int64)"
      ]
     },
     "execution_count": 71,
     "metadata": {},
     "output_type": "execute_result"
    }
   ],
   "source": [
    "tab = confusion_matrix(pred_rfc , y_test)\n",
    "tab"
   ]
  },
  {
   "cell_type": "code",
   "execution_count": 74,
   "id": "1a8048c8",
   "metadata": {},
   "outputs": [
    {
     "data": {
      "text/plain": [
       "97.49262536873157"
      ]
     },
     "execution_count": 74,
     "metadata": {},
     "output_type": "execute_result"
    }
   ],
   "source": [
    "acc=tab.diagonal().sum()*100/tab.sum()\n",
    "acc"
   ]
  },
  {
   "cell_type": "code",
   "execution_count": null,
   "id": "811b193e",
   "metadata": {},
   "outputs": [],
   "source": []
  },
  {
   "cell_type": "code",
   "execution_count": null,
   "id": "45251454",
   "metadata": {},
   "outputs": [],
   "source": []
  },
  {
   "cell_type": "markdown",
   "id": "05671827",
   "metadata": {},
   "source": [
    "## Word Cloud"
   ]
  },
  {
   "cell_type": "code",
   "execution_count": null,
   "id": "5882fa31",
   "metadata": {},
   "outputs": [],
   "source": [
    " "
   ]
  },
  {
   "cell_type": "code",
   "execution_count": null,
   "id": "bc63c34c",
   "metadata": {},
   "outputs": [],
   "source": []
  },
  {
   "cell_type": "code",
   "execution_count": null,
   "id": "611e51a6",
   "metadata": {},
   "outputs": [],
   "source": []
  },
  {
   "cell_type": "code",
   "execution_count": null,
   "id": "70aedbf2",
   "metadata": {},
   "outputs": [],
   "source": []
  },
  {
   "cell_type": "code",
   "execution_count": null,
   "id": "8b323c30",
   "metadata": {},
   "outputs": [],
   "source": []
  },
  {
   "cell_type": "code",
   "execution_count": null,
   "id": "dac1a0fc",
   "metadata": {},
   "outputs": [],
   "source": []
  }
 ],
 "metadata": {
  "kernelspec": {
   "display_name": "Python 3",
   "language": "python",
   "name": "python3"
  },
  "language_info": {
   "codemirror_mode": {
    "name": "ipython",
    "version": 3
   },
   "file_extension": ".py",
   "mimetype": "text/x-python",
   "name": "python",
   "nbconvert_exporter": "python",
   "pygments_lexer": "ipython3",
   "version": "3.8.8"
  }
 },
 "nbformat": 4,
 "nbformat_minor": 5
}
